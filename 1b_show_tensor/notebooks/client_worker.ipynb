{
 "cells": [
  {
   "cell_type": "code",
   "execution_count": 1,
   "id": "scheduled-aging",
   "metadata": {},
   "outputs": [],
   "source": [
    "import os\n",
    "from pathlib import Path\n",
    "from multiprocessing import Process\n",
    "import syft as sy\n",
    "from syft.workers.websocket_client import WebsocketClientWorker\n",
    "import torch\n",
    "import argparse\n",
    "import logging"
   ]
  },
  {
   "cell_type": "code",
   "execution_count": 3,
   "id": "planned-october",
   "metadata": {},
   "outputs": [],
   "source": [
    "path, filename = os.path.split(os.getcwd())\n",
    "log_file = os.path.join('.', 'log_files', '{}.log'.format(filename))\n",
    "logging.basicConfig(filename=log_file,  format=\"%(asctime)s: %(message)s\", datefmt='%Y-%m-%d %H:%M:%S', level=logging.INFO)"
   ]
  },
  {
   "cell_type": "code",
   "execution_count": 4,
   "id": "endangered-patch",
   "metadata": {},
   "outputs": [],
   "source": [
    "hook = sy.TorchHook(torch)"
   ]
  },
  {
   "cell_type": "code",
   "execution_count": 5,
   "id": "central-southeast",
   "metadata": {},
   "outputs": [],
   "source": [
    "def exec_pipeline(socket_pipe):\n",
    "    a = torch.tensor([1, 2, 3]).tag(\"a\")\n",
    "    b = torch.tensor([3, 2, 1]).tag(\"b\")\n",
    "    logging.info(\"CLIENT - Created local tensors:\")\n",
    "    logging.info(\"CLIENT - A: [{}]\".format(' '.join(map(str, a.numpy()))))\n",
    "    logging.info(\"CLIENT - B: [{}]\".format(' '.join(map(str, b.numpy()))))\n",
    "\n",
    "    a_at_server = a.send(socket_pipe)\n",
    "    b_at_server = b.send(socket_pipe)\n",
    "    logging.info(\"CLIENT - Sent tensors to remote node\")\n",
    "\n",
    "    c_at_server = a_at_server + b_at_server\n",
    "    logging.info(\"CLIENT - Computed sum on remote node\")\n",
    "\n",
    "    c_at_local = c_at_server.get()\n",
    "    logging.info(\"CLIENT - Get the result to local, removing from remote\")\n",
    "    logging.info(\"CLIENT - Final result: [{}]\".format(' '.join(map(str, c_at_local.numpy()))))"
   ]
  },
  {
   "cell_type": "code",
   "execution_count": 6,
   "id": "funded-metro",
   "metadata": {},
   "outputs": [],
   "source": [
    "def start_proc(participant, kwargs):\n",
    "    \"\"\" helper function for spinning up a websocket participant \"\"\"\n",
    "\n",
    "    def target():\n",
    "        socket_pipe = participant(**kwargs)\n",
    "        logging.info(\"CLIENT - Connected\")\n",
    "        exec_pipeline(socket_pipe)\n",
    "\n",
    "    p = Process(target=target)\n",
    "    p.start()\n",
    "\n",
    "    return p\n"
   ]
  },
  {
   "cell_type": "code",
   "execution_count": 7,
   "id": "increased-angola",
   "metadata": {},
   "outputs": [],
   "source": [
    "kwargs = {\n",
    "        \"id\": \"fed\",\n",
    "        \"host\": \"0.0.0.0\",\n",
    "        \"port\": \"8769\",\n",
    "        \"hook\": hook,\n",
    "        \"verbose\": False,\n",
    "         }"
   ]
  },
  {
   "cell_type": "code",
   "execution_count": 8,
   "id": "competitive-privacy",
   "metadata": {},
   "outputs": [
    {
     "data": {
      "text/plain": [
       "<Process(Process-1, started)>"
      ]
     },
     "execution_count": 8,
     "metadata": {},
     "output_type": "execute_result"
    }
   ],
   "source": [
    "logging.info(\"CLIENT - Started in host:{}, port:{}\".format(kwargs['host'], kwargs['port']))\n",
    "logging.info(\"CLIENT - Local mode\")\n",
    "start_proc(WebsocketClientWorker, kwargs)"
   ]
  },
  {
   "cell_type": "code",
   "execution_count": null,
   "id": "discrete-governor",
   "metadata": {},
   "outputs": [],
   "source": []
  }
 ],
 "metadata": {
  "kernelspec": {
   "display_name": "Python 3",
   "language": "python",
   "name": "python3"
  },
  "language_info": {
   "codemirror_mode": {
    "name": "ipython",
    "version": 3
   },
   "file_extension": ".py",
   "mimetype": "text/x-python",
   "name": "python",
   "nbconvert_exporter": "python",
   "pygments_lexer": "ipython3",
   "version": "3.7.9"
  }
 },
 "nbformat": 4,
 "nbformat_minor": 5
}
