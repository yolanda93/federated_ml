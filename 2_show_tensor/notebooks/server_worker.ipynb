{
 "cells": [
  {
   "cell_type": "code",
   "execution_count": 1,
   "id": "falling-congo",
   "metadata": {},
   "outputs": [],
   "source": [
    "import os\n",
    "from multiprocessing import Process\n",
    "import syft as sy\n",
    "from syft.workers.websocket_server import WebsocketServerWorker\n",
    "import torch\n",
    "import argparse\n",
    "import logging \n",
    "import nest_asyncio\n",
    "nest_asyncio.apply()"
   ]
  },
  {
   "cell_type": "code",
   "execution_count": 2,
   "id": "extraordinary-plymouth",
   "metadata": {},
   "outputs": [],
   "source": [
    "path, filename = os.path.split(os.getcwd())\n",
    "log_file = os.path.join('.', 'log_files', '{}.log'.format(filename))\n",
    "logging.basicConfig(filename=log_file,  format=\"%(asctime)s: %(message)s\", datefmt='%Y-%m-%d %H:%M:%S', level=logging.INFO)"
   ]
  },
  {
   "cell_type": "code",
   "execution_count": 3,
   "id": "double-application",
   "metadata": {},
   "outputs": [],
   "source": [
    "hook = sy.TorchHook(torch)"
   ]
  },
  {
   "cell_type": "code",
   "execution_count": 4,
   "id": "chronic-qualification",
   "metadata": {},
   "outputs": [],
   "source": [
    "def start_proc(participant, kwargs):\n",
    "    \"\"\" helper function for spinning up a websocket participant \"\"\"\n",
    "\n",
    "    def target():\n",
    "        server = participant(**kwargs)\n",
    "        logging.info(\"SERVER - Running...\")\n",
    "        server.start()\n",
    "        server.list_objects()\n",
    "\n",
    "    p = Process(target=target)\n",
    "    p.start()\n",
    "    return p"
   ]
  },
  {
   "cell_type": "code",
   "execution_count": 5,
   "id": "floating-mountain",
   "metadata": {},
   "outputs": [],
   "source": [
    "kwargs = {\n",
    "        \"id\": \"fed\",\n",
    "        \"host\": \"0.0.0.0\",\n",
    "        \"port\": \"8769\",\n",
    "        \"hook\": hook,\n",
    "        \"verbose\": False,\n",
    "         }"
   ]
  },
  {
   "cell_type": "code",
   "execution_count": 6,
   "id": "filled-adelaide",
   "metadata": {},
   "outputs": [
    {
     "name": "stdout",
     "output_type": "stream",
     "text": [
      "Serving. Press CTRL-C to stop.\n"
     ]
    }
   ],
   "source": [
    "p = start_proc(WebsocketServerWorker, kwargs)"
   ]
  },
  {
   "cell_type": "code",
   "execution_count": null,
   "id": "endless-anthony",
   "metadata": {},
   "outputs": [],
   "source": []
  }
 ],
 "metadata": {
  "kernelspec": {
   "display_name": "Python 3",
   "language": "python",
   "name": "python3"
  },
  "language_info": {
   "codemirror_mode": {
    "name": "ipython",
    "version": 3
   },
   "file_extension": ".py",
   "mimetype": "text/x-python",
   "name": "python",
   "nbconvert_exporter": "python",
   "pygments_lexer": "ipython3",
   "version": "3.7.9"
  }
 },
 "nbformat": 4,
 "nbformat_minor": 5
}
